{
  "nbformat": 4,
  "nbformat_minor": 0,
  "metadata": {
    "colab": {
      "provenance": [],
      "authorship_tag": "ABX9TyNCm1p2iLLfHiF5bY07NZBZ",
      "include_colab_link": true
    },
    "kernelspec": {
      "name": "python3",
      "display_name": "Python 3"
    },
    "language_info": {
      "name": "python"
    }
  },
  "cells": [
    {
      "cell_type": "markdown",
      "metadata": {
        "id": "view-in-github",
        "colab_type": "text"
      },
      "source": [
        "<a href=\"https://colab.research.google.com/github/JerryLin0416/PythonTask/blob/main/Taiwan_Mask_Data_from_API_.ipynb\" target=\"_parent\"><img src=\"https://colab.research.google.com/assets/colab-badge.svg\" alt=\"Open In Colab\"/></a>"
      ]
    },
    {
      "cell_type": "code",
      "execution_count": 3,
      "metadata": {
        "id": "R9F6YbtpkQVj"
      },
      "outputs": [],
      "source": [
        "import requests\n",
        "import json"
      ]
    },
    {
      "cell_type": "code",
      "source": [
        "url = \"https://raw.githubusercontent.com/kiang/pharmacies/master/json/points.json\"\n",
        "response = requests.get(url) # 利用 requests 對 API 來源發送一個請求\n",
        "d = response.text # 將請求回應的內容存成一個字串格式\n",
        "data = json.loads(d) # 將長得像 json 格式的字串解析成字典或列表\n",
        "\n",
        "print(data)"
      ],
      "metadata": {
        "colab": {
          "base_uri": "https://localhost:8080/"
        },
        "id": "POWMHsJihGm4",
        "outputId": "058badca-7fba-4ae7-86f2-d503562a0ba6"
      },
      "execution_count": 4,
      "outputs": [
        {
          "output_type": "stream",
          "name": "stderr",
          "text": [
            "IOPub data rate exceeded.\n",
            "The notebook server will temporarily stop sending output\n",
            "to the client in order to avoid crashing it.\n",
            "To change this limit, set the config variable\n",
            "`--NotebookApp.iopub_data_rate_limit`.\n",
            "\n",
            "Current values:\n",
            "NotebookApp.iopub_data_rate_limit=1000000.0 (bytes/sec)\n",
            "NotebookApp.rate_limit_window=3.0 (secs)\n",
            "\n"
          ]
        }
      ]
    },
    {
      "cell_type": "code",
      "source": [
        "med_count = {}\n",
        "\n",
        "# 填入欄位名稱\n",
        "for d in data['features']:\n",
        "    county = d['properties']['address'][0:2] # 取地址前三個字\n",
        "    if county not in med_count:\n",
        "      med_count[county] = 1\n",
        "    else:\n",
        "      med_count[county] += 1\n",
        "\n",
        "print(med_count)"
      ],
      "metadata": {
        "colab": {
          "base_uri": "https://localhost:8080/"
        },
        "id": "S8xJtITthh74",
        "outputId": "4ee9631f-c5b6-4288-8423-0a0118531998"
      },
      "execution_count": 20,
      "outputs": [
        {
          "output_type": "stream",
          "name": "stdout",
          "text": [
            "{'臺北': 340, '高雄': 424, '臺中': 436, '臺南': 280, '基隆': 57, '新竹': 87, '嘉義': 151, '新北': 507, '桃園': 271, '宜蘭': 76, '苗栗': 57, '彰化': 181, '南投': 67, '雲林': 131, '屏東': 140, '澎湖': 11, '花蓮': 47, '臺東': 23, '金門': 6, '連江': 1}\n"
          ]
        }
      ]
    },
    {
      "cell_type": "code",
      "source": [
        "mask_count = {}\n",
        "\n",
        "# 填入欄位名稱\n",
        "for d in data['features']:\n",
        "    mask = d['properties']['mask_adult']\n",
        "    county = d['properties']['address'][0:2] # 取地址前三個字\n",
        "    if county not in mask_count:\n",
        "      mask_count[county] = mask\n",
        "    else:\n",
        "      mask_count[county] += mask\n",
        "\n",
        "# 將結果從大到小排列\n",
        "mask_count = dict(sorted(mask_count.items(), key=lambda item: item[1]))\n",
        "\n",
        "print(mask_count)"
      ],
      "metadata": {
        "colab": {
          "base_uri": "https://localhost:8080/"
        },
        "id": "3fCRSBei3QWL",
        "outputId": "4d5be39f-97e1-404c-cd72-0a6def079938"
      },
      "execution_count": 25,
      "outputs": [
        {
          "output_type": "stream",
          "name": "stdout",
          "text": [
            "{'連江': 7930, '澎湖': 12600, '金門': 15510, '臺東': 28510, '花蓮': 57330, '基隆': 80100, '南投': 91240, '新竹': 99390, '宜蘭': 106900, '苗栗': 134180, '屏東': 184250, '雲林': 199470, '彰化': 219400, '嘉義': 221020, '臺北': 323660, '桃園': 345600, '臺南': 408400, '高雄': 428940, '臺中': 556440, '新北': 677660}\n"
          ]
        }
      ]
    }
  ]
}