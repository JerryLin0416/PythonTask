{
  "nbformat": 4,
  "nbformat_minor": 0,
  "metadata": {
    "colab": {
      "provenance": [],
      "authorship_tag": "ABX9TyMAi14YcFRSRLjyXPuVCBLQ",
      "include_colab_link": true
    },
    "kernelspec": {
      "name": "python3",
      "display_name": "Python 3"
    },
    "language_info": {
      "name": "python"
    }
  },
  "cells": [
    {
      "cell_type": "markdown",
      "metadata": {
        "id": "view-in-github",
        "colab_type": "text"
      },
      "source": [
        "<a href=\"https://colab.research.google.com/github/JerryLin0416/PythonTask/blob/main/Taiwan_Mask_Data_from_API_.ipynb\" target=\"_parent\"><img src=\"https://colab.research.google.com/assets/colab-badge.svg\" alt=\"Open In Colab\"/></a>"
      ]
    },
    {
      "cell_type": "code",
      "execution_count": 3,
      "metadata": {
        "id": "R9F6YbtpkQVj"
      },
      "outputs": [],
      "source": [
        "import requests\n",
        "import json\n",
        "import sqlite3\n",
        "import datetime"
      ]
    },
    {
      "cell_type": "code",
      "source": [
        "url = \"https://raw.githubusercontent.com/kiang/pharmacies/master/json/points.json\"\n",
        "response = requests.get(url) # 利用 requests 對 API 來源發送一個請求\n",
        "d = response.text # 將請求回應的內容存成一個字串格式\n",
        "data = json.loads(d) # 將長得像 json 格式的字串解析成字典或列表\n",
        "\n",
        "print(data)"
      ],
      "metadata": {
        "colab": {
          "base_uri": "https://localhost:8080/"
        },
        "id": "POWMHsJihGm4",
        "outputId": "285b2e95-f1bb-4625-c6f5-5d44522f1cea"
      },
      "execution_count": 6,
      "outputs": [
        {
          "output_type": "stream",
          "name": "stderr",
          "text": [
            "IOPub data rate exceeded.\n",
            "The notebook server will temporarily stop sending output\n",
            "to the client in order to avoid crashing it.\n",
            "To change this limit, set the config variable\n",
            "`--NotebookApp.iopub_data_rate_limit`.\n",
            "\n",
            "Current values:\n",
            "NotebookApp.iopub_data_rate_limit=1000000.0 (bytes/sec)\n",
            "NotebookApp.rate_limit_window=3.0 (secs)\n",
            "\n"
          ]
        }
      ]
    },
    {
      "cell_type": "code",
      "source": [
        "med_count = {}\n",
        "\n",
        "# 填入欄位名稱\n",
        "for d in data['features']:\n",
        "    county = d['properties']['address'][0:2] # 取地址前三個字\n",
        "    if county not in med_count:\n",
        "      med_count[county] = 1\n",
        "    else:\n",
        "      med_count[county] += 1\n",
        "\n",
        "print(med_count)"
      ],
      "metadata": {
        "colab": {
          "base_uri": "https://localhost:8080/"
        },
        "id": "S8xJtITthh74",
        "outputId": "ea6ff95d-4805-42cb-b6f3-6b40f0f5ac41"
      },
      "execution_count": 19,
      "outputs": [
        {
          "output_type": "stream",
          "name": "stdout",
          "text": [
            "{'臺北': 340, '高雄': 424, '臺中': 436, '臺南': 280, '基隆': 57, '新竹': 87, '嘉義': 151, '新北': 507, '桃園': 271, '宜蘭': 76, '苗栗': 57, '彰化': 181, '南投': 67, '雲林': 131, '屏東': 140, '澎湖': 11, '花蓮': 47, '臺東': 23, '金門': 6, '連江': 1}\n"
          ]
        }
      ]
    },
    {
      "cell_type": "code",
      "source": [
        "mask_count = {}\n",
        "\n",
        "# 填入欄位名稱\n",
        "for d in data['features']:\n",
        "    mask = d['properties']['mask_adult']\n",
        "    county = d['properties']['address'][0:2] # 取地址前三個字\n",
        "    if county not in mask_count:\n",
        "      mask_count[county] = mask\n",
        "    else:\n",
        "      mask_count[county] += mask\n",
        "\n",
        "# 將結果從大到小排列\n",
        "mask_count = dict(sorted(mask_count.items(), key=lambda item: item[1]))\n",
        "\n",
        "print(mask_count)"
      ],
      "metadata": {
        "colab": {
          "base_uri": "https://localhost:8080/"
        },
        "id": "3fCRSBei3QWL",
        "outputId": "bf54a0b5-202b-4c63-ea7b-3f0061c18b68"
      },
      "execution_count": 8,
      "outputs": [
        {
          "output_type": "stream",
          "name": "stdout",
          "text": [
            "{'連江': 7930, '澎湖': 12600, '金門': 15510, '臺東': 28510, '花蓮': 57330, '基隆': 80100, '南投': 91240, '新竹': 99390, '宜蘭': 106900, '苗栗': 134180, '屏東': 184250, '雲林': 199470, '彰化': 219400, '嘉義': 221020, '臺北': 323660, '桃園': 345600, '臺南': 408400, '高雄': 428940, '臺中': 556440, '新北': 677660}\n"
          ]
        }
      ]
    },
    {
      "cell_type": "code",
      "source": [
        "conn = sqlite3.connect('example.db')\n",
        "c = conn.cursor()\n",
        "\n",
        "# 新增且清空資料表\n",
        "c.execute('''CREATE TABLE IF NOT EXISTS pharmacies\n",
        "             (city text, counts text, createdAt datetime)''')\n",
        "c.execute('''DELETE FROM pharmacies''')\n",
        "conn.commit()\n",
        "\n",
        "# 新增資料\n",
        "for city, counts in med_count.items():\n",
        "  t = datetime.datetime.now()\n",
        "  c.execute(f\"INSERT INTO pharmacies VALUES ('{city}', {counts}, '{t}')\")\n",
        "  conn.commit()\n",
        "\n",
        "# 查詢資料\n",
        "c.execute(\"SELECT * FROM pharmacies\")\n",
        "print(c.fetchall())\n",
        "\n",
        "conn.commit()\n",
        "conn.close()"
      ],
      "metadata": {
        "colab": {
          "base_uri": "https://localhost:8080/"
        },
        "id": "2nbTU6pN-AmN",
        "outputId": "1adb0ac2-ebd5-4195-9494-d63b40b43f4c"
      },
      "execution_count": 26,
      "outputs": [
        {
          "output_type": "stream",
          "name": "stdout",
          "text": [
            "[('臺北', '340', '2023-04-15 03:44:01.651496'), ('高雄', '424', '2023-04-15 03:44:01.670256'), ('臺中', '436', '2023-04-15 03:44:01.681302'), ('臺南', '280', '2023-04-15 03:44:01.692262'), ('基隆', '57', '2023-04-15 03:44:01.703289'), ('新竹', '87', '2023-04-15 03:44:01.714277'), ('嘉義', '151', '2023-04-15 03:44:01.723989'), ('新北', '507', '2023-04-15 03:44:01.733934'), ('桃園', '271', '2023-04-15 03:44:01.743245'), ('宜蘭', '76', '2023-04-15 03:44:01.753170'), ('苗栗', '57', '2023-04-15 03:44:01.763840'), ('彰化', '181', '2023-04-15 03:44:01.773892'), ('南投', '67', '2023-04-15 03:44:01.784879'), ('雲林', '131', '2023-04-15 03:44:01.795098'), ('屏東', '140', '2023-04-15 03:44:01.805567'), ('澎湖', '11', '2023-04-15 03:44:01.816087'), ('花蓮', '47', '2023-04-15 03:44:01.826895'), ('臺東', '23', '2023-04-15 03:44:01.838583'), ('金門', '6', '2023-04-15 03:44:01.849310'), ('連江', '1', '2023-04-15 03:44:01.861632')]\n"
          ]
        }
      ]
    },
    {
      "cell_type": "code",
      "source": [
        "conn = sqlite3.connect('example.db')\n",
        "c = conn.cursor()\n",
        "\n",
        "# 新增且清空資料表\n",
        "c.execute('''CREATE TABLE IF NOT EXISTS masks\n",
        "             (city text, counts text, createdAt datetime)''')\n",
        "c.execute('''DELETE FROM masks''')\n",
        "conn.commit()\n",
        "\n",
        "# 新增資料\n",
        "for city, counts in mask_count.items():\n",
        "  t = datetime.datetime.now()\n",
        "  c.execute(f\"INSERT INTO masks VALUES ('{city}', {counts}, '{t}')\")\n",
        "  conn.commit()\n",
        "\n",
        "# 查詢資料\n",
        "c.execute(\"SELECT * FROM masks\")\n",
        "print(c.fetchall())\n",
        "\n",
        "conn.commit()\n",
        "conn.close()"
      ],
      "metadata": {
        "colab": {
          "base_uri": "https://localhost:8080/"
        },
        "id": "aZks3aKn-FZr",
        "outputId": "6c63742b-b5a1-40f9-e8ca-d79f08504b17"
      },
      "execution_count": 27,
      "outputs": [
        {
          "output_type": "stream",
          "name": "stdout",
          "text": [
            "[('連江', '7930', '2023-04-15 03:44:03.985222'), ('澎湖', '12600', '2023-04-15 03:44:03.994074'), ('金門', '15510', '2023-04-15 03:44:04.002151'), ('臺東', '28510', '2023-04-15 03:44:04.010414'), ('花蓮', '57330', '2023-04-15 03:44:04.018874'), ('基隆', '80100', '2023-04-15 03:44:04.027086'), ('南投', '91240', '2023-04-15 03:44:04.035981'), ('新竹', '99390', '2023-04-15 03:44:04.043712'), ('宜蘭', '106900', '2023-04-15 03:44:04.053496'), ('苗栗', '134180', '2023-04-15 03:44:04.065850'), ('屏東', '184250', '2023-04-15 03:44:04.074294'), ('雲林', '199470', '2023-04-15 03:44:04.083629'), ('彰化', '219400', '2023-04-15 03:44:04.093223'), ('嘉義', '221020', '2023-04-15 03:44:04.102311'), ('臺北', '323660', '2023-04-15 03:44:04.111119'), ('桃園', '345600', '2023-04-15 03:44:04.119547'), ('臺南', '408400', '2023-04-15 03:44:04.127700'), ('高雄', '428940', '2023-04-15 03:44:04.136088'), ('臺中', '556440', '2023-04-15 03:44:04.148856'), ('新北', '677660', '2023-04-15 03:44:04.164978')]\n"
          ]
        }
      ]
    }
  ]
}